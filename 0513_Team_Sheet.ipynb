{
 "cells": [
  {
   "cell_type": "markdown",
   "metadata": {
    "colab_type": "text",
    "id": "view-in-github"
   },
   "source": [
    "<a href=\"https://colab.research.google.com/github/multi-proj/API/blob/master/Soccer_Team/Team_Sheet.ipynb\" target=\"_parent\"><img src=\"https://colab.research.google.com/assets/colab-badge.svg\" alt=\"Open In Colab\"/></a>"
   ]
  },
  {
   "cell_type": "code",
   "execution_count": 1,
   "metadata": {
    "colab": {},
    "colab_type": "code",
    "id": "ZlKNGHm7vQh6"
   },
   "outputs": [],
   "source": [
    "from selenium import webdriver"
   ]
  },
  {
   "cell_type": "code",
   "execution_count": null,
   "metadata": {},
   "outputs": [],
   "source": [
    "!pip install selenium\n",
    "!apt install chromium-chromedriver"
   ]
  },
  {
   "cell_type": "code",
   "execution_count": 4,
   "metadata": {},
   "outputs": [
    {
     "ename": "ModuleNotFoundError",
     "evalue": "No module named 'google.colab'",
     "output_type": "error",
     "traceback": [
      "\u001b[1;31m---------------------------------------------------------------------------\u001b[0m",
      "\u001b[1;31mModuleNotFoundError\u001b[0m                       Traceback (most recent call last)",
      "\u001b[1;32m<ipython-input-4-cbb0d4965382>\u001b[0m in \u001b[0;36m<module>\u001b[1;34m\u001b[0m\n\u001b[0;32m      2\u001b[0m \u001b[1;32mfrom\u001b[0m \u001b[0mpydrive\u001b[0m\u001b[1;33m.\u001b[0m\u001b[0mauth\u001b[0m \u001b[1;32mimport\u001b[0m \u001b[0mGoogleAuth\u001b[0m\u001b[1;33m\u001b[0m\u001b[1;33m\u001b[0m\u001b[0m\n\u001b[0;32m      3\u001b[0m \u001b[1;32mfrom\u001b[0m \u001b[0mpydrive\u001b[0m\u001b[1;33m.\u001b[0m\u001b[0mdrive\u001b[0m \u001b[1;32mimport\u001b[0m \u001b[0mGoogleDrive\u001b[0m\u001b[1;33m\u001b[0m\u001b[1;33m\u001b[0m\u001b[0m\n\u001b[1;32m----> 4\u001b[1;33m \u001b[1;32mfrom\u001b[0m \u001b[0mgoogle\u001b[0m\u001b[1;33m.\u001b[0m\u001b[0mcolab\u001b[0m \u001b[1;32mimport\u001b[0m \u001b[0mauth\u001b[0m\u001b[1;33m\u001b[0m\u001b[1;33m\u001b[0m\u001b[0m\n\u001b[0m\u001b[0;32m      5\u001b[0m \u001b[1;32mfrom\u001b[0m \u001b[0moauth2client\u001b[0m\u001b[1;33m.\u001b[0m\u001b[0mclient\u001b[0m \u001b[1;32mimport\u001b[0m \u001b[0mGoogleCredentials\u001b[0m\u001b[1;33m\u001b[0m\u001b[1;33m\u001b[0m\u001b[0m\n\u001b[0;32m      6\u001b[0m \u001b[1;33m\u001b[0m\u001b[0m\n",
      "\u001b[1;31mModuleNotFoundError\u001b[0m: No module named 'google.colab'"
     ]
    }
   ],
   "source": [
    "!pip install -U -q Pydrive\n",
    "from pydrive.auth import GoogleAuth\n",
    "from pydrive.drive import GoogleDrive\n",
    "from google.colab import auth\n",
    "from oauth2client.client import GoogleCredentials\n",
    "\n",
    "# Authenticate and create the PyDrive client.\n",
    "auth.authenticate_user()\n",
    "gauth = GoogleAuth()\n",
    "gauth.credentials = GoogleCredentials.get_application_default()\n",
    "drive = GoogleDrive(gauth)"
   ]
  },
  {
   "cell_type": "code",
   "execution_count": 0,
   "metadata": {
    "colab": {},
    "colab_type": "code",
    "id": "_17HbgKm8gIE"
   },
   "outputs": [],
   "source": [
    "url = 'https://drive.google.com/open?id=1dwaiV1_fIVBGHGeVKnRGXMgw-POve3I3'\n",
    "id = url.split('=')[1]"
   ]
  },
  {
   "cell_type": "code",
   "execution_count": 0,
   "metadata": {
    "colab": {
     "base_uri": "https://localhost:8080/",
     "height": 53
    },
    "colab_type": "code",
    "id": "IEG8ZjYl8TML",
    "outputId": "9efa622c-034b-4c28-acc6-cdeed9c80e0c"
   },
   "outputs": [
    {
     "name": "stderr",
     "output_type": "stream",
     "text": [
      "/usr/local/lib/python3.6/dist-packages/ipykernel_launcher.py:8: DeprecationWarning: use options instead of chrome_options\n",
      "  \n"
     ]
    }
   ],
   "source": [
    "import sys\n",
    "sys.path.insert(0,'/usr/lib/chromium-browser/chromedriver')\n",
    "from selenium import webdriver\n",
    "chrome_options = webdriver.ChromeOptions()\n",
    "chrome_options.add_argument('--headless')\n",
    "chrome_options.add_argument('--no-sandbox')\n",
    "chrome_options.add_argument('--disable-dev-shm-usage')\n",
    "wd = webdriver.Chrome('chromedriver',chrome_options=chrome_options)\n",
    "wd.get(\"https://www.premierleague.com/players?se=79&cl=21\")"
   ]
  },
  {
   "cell_type": "markdown",
   "metadata": {
    "colab_type": "text",
    "id": "XUtgQ39km4rw"
   },
   "source": [
    "---"
   ]
  },
  {
   "cell_type": "markdown",
   "metadata": {
    "colab_type": "text",
    "id": "nwPb0lDwV97C"
   },
   "source": [
    "* **선수명 불러오기**"
   ]
  },
  {
   "cell_type": "code",
   "execution_count": 0,
   "metadata": {
    "colab": {},
    "colab_type": "code",
    "id": "AgYfSaR_CgFs"
   },
   "outputs": [],
   "source": [
    "player_list = wd.find_elements_by_class_name('playerName')"
   ]
  },
  {
   "cell_type": "code",
   "execution_count": 0,
   "metadata": {
    "colab": {},
    "colab_type": "code",
    "id": "NNykuES4RSlC"
   },
   "outputs": [],
   "source": [
    "player_name = []\n",
    "\n",
    "for i in range(0, len(player_list)):\n",
    "    name = player_list[i].text\n",
    "    player_name.append(name)\n",
    "    \n",
    "player_name"
   ]
  },
  {
   "cell_type": "markdown",
   "metadata": {
    "colab_type": "text",
    "id": "ypi0UOrmm6lV"
   },
   "source": [
    "---"
   ]
  },
  {
   "cell_type": "markdown",
   "metadata": {
    "colab_type": "text",
    "id": "6Rm_eqZQVkB3"
   },
   "source": [
    "* **포지션 불러오기**"
   ]
  },
  {
   "cell_type": "code",
   "execution_count": 0,
   "metadata": {
    "colab": {},
    "colab_type": "code",
    "id": "VCdI3gsgWB1W"
   },
   "outputs": [],
   "source": [
    "player_position_name = wd.find_elements_by_class_name('hide-s')"
   ]
  },
  {
   "cell_type": "code",
   "execution_count": 0,
   "metadata": {
    "colab": {},
    "colab_type": "code",
    "id": "HnKyTmNmWV1D"
   },
   "outputs": [],
   "source": [
    "player_position = []\n",
    "\n",
    "for i in range(2, len(player_position_name), 2):\n",
    "    name = player_position_name[i].text\n",
    "    player_position.append(name)\n",
    "\n",
    "player_position"
   ]
  },
  {
   "cell_type": "markdown",
   "metadata": {
    "colab_type": "text",
    "id": "1_5PbaEzxKHx"
   },
   "source": [
    "---"
   ]
  },
  {
   "cell_type": "markdown",
   "metadata": {
    "colab_type": "text",
    "id": "uf5AdiNHaAoZ"
   },
   "source": [
    "* **선수이름 + 포지션**"
   ]
  },
  {
   "cell_type": "code",
   "execution_count": 0,
   "metadata": {
    "colab": {},
    "colab_type": "code",
    "id": "QZIic3W_Yki9"
   },
   "outputs": [],
   "source": [
    "import pandas as pd\n",
    "\n",
    "data = {'Name': player_name, 'Position': player_position}\n",
    "\n",
    "team_sheet = pd.DataFrame(data)\n",
    "team_sheet.head()\n",
    "\n",
    "team_sheet = team_sheet.drop(49)"
   ]
  },
  {
   "cell_type": "markdown",
   "metadata": {
    "colab_type": "text",
    "id": "X37F5n4HxMTG"
   },
   "source": [
    "---"
   ]
  },
  {
   "cell_type": "markdown",
   "metadata": {
    "colab_type": "text",
    "id": "lz6TwiiSkkVB"
   },
   "source": [
    "* **선수 링크 긁어오기**"
   ]
  },
  {
   "cell_type": "code",
   "execution_count": 0,
   "metadata": {
    "colab": {},
    "colab_type": "code",
    "id": "K4f8Z_nvexg7"
   },
   "outputs": [],
   "source": [
    "test = wd.find_elements_by_tag_name('a')\n",
    "test"
   ]
  },
  {
   "cell_type": "code",
   "execution_count": 0,
   "metadata": {
    "colab": {},
    "colab_type": "code",
    "id": "JjGEDGfFfvsa"
   },
   "outputs": [],
   "source": [
    "link = []\n",
    "for i in range(0, len(test)):\n",
    "    a = test[i].get_attribute('href')\n",
    "    link.append(a)\n",
    "    \n",
    "link"
   ]
  },
  {
   "cell_type": "code",
   "execution_count": 0,
   "metadata": {
    "colab": {},
    "colab_type": "code",
    "id": "XIFtao2gjJS6"
   },
   "outputs": [],
   "source": [
    "link = link[109:158]"
   ]
  },
  {
   "cell_type": "code",
   "execution_count": 0,
   "metadata": {
    "colab": {},
    "colab_type": "code",
    "id": "DTHrgS5kiwYj"
   },
   "outputs": [],
   "source": [
    "link_number = []\n",
    "\n",
    "for i in range(0, len(link)):\n",
    "               a = int(link[i].split('/')[4])\n",
    "               link_number.append(a)\n",
    "\n",
    "            \n",
    "# 선수 테이블과 합치기\n",
    "team_sheet['id'] = link_number"
   ]
  },
  {
   "cell_type": "markdown",
   "metadata": {
    "colab_type": "text",
    "id": "S4EmFbq3jr8X"
   },
   "source": [
    "---"
   ]
  },
  {
   "cell_type": "markdown",
   "metadata": {
    "colab_type": "text",
    "id": "SKkOtYT8l5Bx"
   },
   "source": [
    "## **지난 경기 기록 긁어오기**"
   ]
  },
  {
   "cell_type": "code",
   "execution_count": 0,
   "metadata": {
    "colab": {},
    "colab_type": "code",
    "id": "SX-oIA68xPFg"
   },
   "outputs": [],
   "source": [
    "import sys\n",
    "sys.path.insert(0,'/usr/lib/chromium-browser/chromedriver')\n",
    "from selenium import webdriver\n",
    "chrome_options = webdriver.ChromeOptions()\n",
    "chrome_options.add_argument('--headless')\n",
    "chrome_options.add_argument('--no-sandbox')\n",
    "chrome_options.add_argument('--disable-dev-shm-usage')\n",
    "match_wd = webdriver.Chrome('chromedriver',chrome_options=chrome_options)\n",
    "match_wd.get(\"https://www.premierleague.com/clubs/21/Tottenham-Hotspur/results?co=1&se=79\")"
   ]
  },
  {
   "cell_type": "code",
   "execution_count": 0,
   "metadata": {
    "colab": {},
    "colab_type": "code",
    "id": "okkYTpL3xiG-"
   },
   "outputs": [],
   "source": [
    "# match_tag = match_wd.find_elements_by_tag_name('li')\n",
    "\n",
    "match_num_01 = []\n",
    "\n",
    "for i in range(1, 39):\n",
    "    a = i * 3\n",
    "    number = '#mainContent > div:nth-child(6) > div > div.wrapper.col-12.active > div.col-12 > section > div:nth-child(%d) > ul > li > div' % a\n",
    "    b = match_wd.find_element_by_css_selector(number)\n",
    "    \n",
    "    match_num_01.append(b)"
   ]
  },
  {
   "cell_type": "code",
   "execution_count": 0,
   "metadata": {
    "colab": {},
    "colab_type": "code",
    "id": "QYHf_DlmxwoK"
   },
   "outputs": [],
   "source": [
    "match_num_02 = []\n",
    "\n",
    "for i in range(0, len(match_num_01)):\n",
    "    a = match_num_01[i].get_attribute('data-matchid')\n",
    "    match_num_02.append(a)\n",
    "    \n",
    "match_num_02 = list(map(int,match_num_02))\n",
    "match_num_02"
   ]
  },
  {
   "cell_type": "code",
   "execution_count": 0,
   "metadata": {
    "colab": {},
    "colab_type": "code",
    "id": "5RuOMwimz91S"
   },
   "outputs": [],
   "source": [
    "for i in match_num_02:\n",
    "    a = 'https://www.premierleague.com/match/%d' % i\n",
    "    print(a)"
   ]
  },
  {
   "cell_type": "markdown",
   "metadata": {
    "colab_type": "text",
    "id": "yFZvFaIb6w_n"
   },
   "source": [
    "---"
   ]
  },
  {
   "cell_type": "markdown",
   "metadata": {
    "colab_type": "text",
    "id": "5z9jdN187XSc"
   },
   "source": [
    "## **경기별 선수 명단 긁어오기**"
   ]
  },
  {
   "cell_type": "code",
   "execution_count": 0,
   "metadata": {
    "colab": {},
    "colab_type": "code",
    "id": "K-Ojt_UQ7Vye"
   },
   "outputs": [],
   "source": [
    "# https://www.premierleague.com/match/22720\n",
    "from bs4 import BeautifulSoup\n",
    "import urllib.request\n",
    "import urllib.parse\n",
    "\n",
    "# web_url에 원하는 웹의 URL을 넣어주시면 됩니다.\n",
    "web_url = \"https://www.premierleague.com/match/22720\"\n",
    "\n",
    "with urllib.request.urlopen(web_url) as response:\n",
    "    html = response.read()\n",
    "    soup = BeautifulSoup(html, 'html.parser')    \n",
    "\n",
    "players = soup.find_all('div', 'matchLineupTeamContainer')"
   ]
  },
  {
   "cell_type": "code",
   "execution_count": 0,
   "metadata": {
    "colab": {},
    "colab_type": "code",
    "id": "YGYUejqWYWXZ"
   },
   "outputs": [],
   "source": [
    "len(players)"
   ]
  },
  {
   "cell_type": "code",
   "execution_count": 0,
   "metadata": {
    "colab": {},
    "colab_type": "code",
    "id": "TGu-a5EJaYDD"
   },
   "outputs": [],
   "source": [
    "a.find_all(\"div\", class_=\"name\").t"
   ]
  },
  {
   "cell_type": "code",
   "execution_count": 0,
   "metadata": {
    "colab": {
     "base_uri": "https://localhost:8080/",
     "height": 35
    },
    "colab_type": "code",
    "id": "qBMkS3-Zef7j",
    "outputId": "ec4a7f21-2eeb-4e1e-81b2-8e8f99c5989c"
   },
   "outputs": [
    {
     "data": {
      "text/plain": [
       "' Hugo Lloris '"
      ]
     },
     "execution_count": 651,
     "metadata": {
      "tags": []
     },
     "output_type": "execute_result"
    }
   ],
   "source": [
    "a = players[i].find_all(\"div\", class_=\"name\")\n",
    "a[0].get_text()"
   ]
  },
  {
   "cell_type": "code",
   "execution_count": 0,
   "metadata": {
    "colab": {
     "base_uri": "https://localhost:8080/",
     "height": 341
    },
    "colab_type": "code",
    "id": "6uQytkMhag9u",
    "outputId": "2bd72fa5-5554-4488-ab63-2ad304e8b08f"
   },
   "outputs": [
    {
     "data": {
      "text/plain": [
       "[' Hugo Lloris ',\n",
       " ' Eric Dier ',\n",
       " ' Kyle Walker-Peters ',\n",
       " ' Danny Rose ',\n",
       " ' Toby Alderweireld ',\n",
       " ' Victor Wanyama ',\n",
       " \" Erik Lamela 78'\",\n",
       " \" Lucas Moura 74'\",\n",
       " \" Moussa Sissoko 84'\",\n",
       " ' Christian Eriksen ',\n",
       " ' Harry Kane ',\n",
       " ' Michel Vorm ',\n",
       " ' Ben Davies ',\n",
       " ' Juan Foyth ',\n",
       " \" Davinson Sánchez 78'\",\n",
       " \" Dele Alli 74'\",\n",
       " \" Son Heung-Min 84'\",\n",
       " ' Fernando Llorente ']"
      ]
     },
     "execution_count": 697,
     "metadata": {
      "tags": []
     },
     "output_type": "execute_result"
    }
   ],
   "source": [
    "player_name = []\n",
    "for i in range(0, len(players)) :\n",
    "    if (players[i].get_attribute_list('data-team-id')[0] == '21') :\n",
    "        a = players[i].find_all(\"div\", class_=\"name\")\n",
    "       # print(a)\n",
    "        for j in range(0, len(a)) :\n",
    "            player_name.append(a[j].get_text())\n",
    "\n",
    "player_name"
   ]
  },
  {
   "cell_type": "code",
   "execution_count": 0,
   "metadata": {
    "colab": {
     "base_uri": "https://localhost:8080/",
     "height": 341
    },
    "colab_type": "code",
    "id": "jO3q45CcbxUq",
    "outputId": "c3c63ecf-0369-4d40-e95e-80d1131e86b6"
   },
   "outputs": [
    {
     "data": {
      "text/plain": [
       "['Hugo Lloris ',\n",
       " 'Eric Dier ',\n",
       " 'Kyle Walker-Peters ',\n",
       " 'Danny Rose ',\n",
       " 'Toby Alderweireld ',\n",
       " 'Victor Wanyama ',\n",
       " \"Erik Lamela 78'\",\n",
       " \"Lucas Moura 74'\",\n",
       " \"Moussa Sissoko 84'\",\n",
       " 'Christian Eriksen ',\n",
       " 'Harry Kane ',\n",
       " 'Michel Vorm ',\n",
       " 'Ben Davies ',\n",
       " 'Juan Foyth ',\n",
       " \"Davinson Sánchez 78'\",\n",
       " \"Dele Alli 74'\",\n",
       " \"Son Heung-Min 84'\",\n",
       " 'Fernando Llorente ']"
      ]
     },
     "execution_count": 699,
     "metadata": {
      "tags": []
     },
     "output_type": "execute_result"
    }
   ],
   "source": [
    "lstrip_player_name = []\n",
    "\n",
    "for i in range(0, len(player_name)):\n",
    "    a = player_name[i].lstrip()\n",
    "    lstrip_player_name.append(a)\n",
    "    \n",
    "lstrip_player_name"
   ]
  },
  {
   "cell_type": "markdown",
   "metadata": {
    "colab_type": "text",
    "id": "Af1gKZcxmbmW"
   },
   "source": [
    "* **정규식**\n",
    "    * 출처1: http://melonicedlatte.com/python/2017/02/23/152309.html\n",
    "    * 출처2: https://niceman.tistory.com/156"
   ]
  },
  {
   "cell_type": "code",
   "execution_count": 0,
   "metadata": {
    "colab": {
     "base_uri": "https://localhost:8080/",
     "height": 341
    },
    "colab_type": "code",
    "id": "NoxMC6JldvaE",
    "outputId": "deab47ac-970f-49b4-ac1f-a3ea86cf007c"
   },
   "outputs": [
    {
     "data": {
      "text/plain": [
       "['Hugo Lloris',\n",
       " 'Eric Dier',\n",
       " 'Kyle Walker-Peters',\n",
       " 'Danny Rose',\n",
       " 'Toby Alderweireld',\n",
       " 'Victor Wanyama',\n",
       " 'Erik Lamela',\n",
       " 'Lucas Moura',\n",
       " 'Moussa Sissoko',\n",
       " 'Christian Eriksen',\n",
       " 'Harry Kane',\n",
       " 'Michel Vorm',\n",
       " 'Ben Davies',\n",
       " 'Juan Foyth',\n",
       " 'Davinson Sánchez',\n",
       " 'Dele Alli',\n",
       " 'Son Heung-Min',\n",
       " 'Fernando Llorente']"
      ]
     },
     "execution_count": 713,
     "metadata": {
      "tags": []
     },
     "output_type": "execute_result"
    }
   ],
   "source": [
    "re_player_name = []\n",
    "fin_player_name = []\n",
    "\n",
    "import re\n",
    "\n",
    "for i in range(0, len(lstrip_player_name)):\n",
    "    text = lstrip_player_name[i]\n",
    "    parse = re.sub('[' '][0-9][0-9][-=+,#/\\?:^$.@*\\\"※~&%ㆍ!』\\\\‘|\\(\\)\\[\\]\\<\\>`\\'…》]', '', text)\n",
    "    re_player_name.append(parse)\n",
    "\n",
    "for j in range(0, len(re_player_name)):\n",
    "    a = re_player_name[j].rstrip()\n",
    "    fin_player_name.append(a)\n",
    "        \n",
    "fin_player_name\n",
    "\n",
    "#     for j in range(0, len(re_player_name)):\n",
    "#         a = re_player_name[j].rstrip()\n",
    "#         fin_player_name.append(a)"
   ]
  }
 ],
 "metadata": {
  "colab": {
   "collapsed_sections": [],
   "include_colab_link": true,
   "name": "Team_Sheet.ipynb",
   "provenance": [],
   "version": "0.3.2"
  },
  "kernelspec": {
   "display_name": "Python 3",
   "language": "python",
   "name": "python3"
  },
  "language_info": {
   "codemirror_mode": {
    "name": "ipython",
    "version": 3
   },
   "file_extension": ".py",
   "mimetype": "text/x-python",
   "name": "python",
   "nbconvert_exporter": "python",
   "pygments_lexer": "ipython3",
   "version": "3.7.1"
  }
 },
 "nbformat": 4,
 "nbformat_minor": 1
}
